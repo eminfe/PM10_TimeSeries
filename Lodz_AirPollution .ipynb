{
 "cells": [
  {
   "cell_type": "code",
   "execution_count": 4,
   "metadata": {},
   "outputs": [],
   "source": [
    "from rpy2.robjects.packages import importr\n",
    "from rpy2.robjects import pandas2ri\n",
    "import rpy2.robjects as ro\n",
    "import pandas as pd\n",
    "import datetime as dt\n",
    "import matplotlib.pyplot as plt\n",
    "from rpy2.robjects.conversion import localconverter\n",
    "\n",
    "%matplotlib inline\n",
    "openair = importr('openair')\n",
    "pandas2ri.activate()\n",
    "\n",
    "\n",
    "\n",
    "rdevcopy = ro.r['dev.copy']\n",
    "rdevoff = ro.r['dev.off']\n",
    "png = ro.r['png']"
   ]
  },
  {
   "cell_type": "code",
   "execution_count": 8,
   "metadata": {},
   "outputs": [
    {
     "name": "stdout",
     "output_type": "stream",
     "text": [
      "<class 'pandas.core.frame.DataFrame'>\n",
      "                 id  LdLodzCzerni\n",
      "0  01.01.2019 01:00          70.0\n",
      "1  01.01.2019 02:00          38.0\n",
      "2  01.01.2019 03:00          30.0\n",
      "3  01.01.2019 04:00          30.0\n",
      "4  01.01.2019 05:00          30.0\n"
     ]
    }
   ],
   "source": [
    "dir = \"/dta/monitoring-PL/2019\"\n",
    "df = pd.read_csv (dir+\"/PM10_1h_2019.csv\", sep =';', na_values=[-999], header=0)\n",
    "pm10 = df[[\"id\",\"LdLodzCzerni\"]]\n",
    "print(type(pm10))\n",
    "print(pm10.head())"
   ]
  },
  {
   "cell_type": "code",
   "execution_count": 9,
   "metadata": {},
   "outputs": [
    {
     "name": "stdout",
     "output_type": "stream",
     "text": [
      "                 id  LdLodzCzerni_x  LdLodzCzerni_y\n",
      "0  01.01.2019 01:00            70.0          58.045\n",
      "1  01.01.2019 02:00            38.0          32.032\n",
      "2  01.01.2019 03:00            30.0          24.856\n",
      "3  01.01.2019 04:00            30.0          24.856\n",
      "4  01.01.2019 05:00            30.0          24.856\n"
     ]
    }
   ],
   "source": [
    "PM25 = pd.read_csv (dir+\"/PM25_1h_2019.csv\", sep =';', na_values=[-999],\n",
    "                    header=0)[[\"id\",\"LdLodzCzerni\"]]\n",
    "pm1025 = pd.merge(pm10,PM25,on='id')\n",
    "print(pm1025.head())"
   ]
  },
  {
   "cell_type": "code",
   "execution_count": 10,
   "metadata": {},
   "outputs": [
    {
     "name": "stdout",
     "output_type": "stream",
     "text": [
      "                 id  LdLodzCzerni_x  LdLodzCzerni_y  LdLodzCzerni\n",
      "0  01.01.2019 01:00            70.0          58.045          41.9\n",
      "1  01.01.2019 02:00            38.0          32.032          46.8\n",
      "2  01.01.2019 03:00            30.0          24.856          47.8\n",
      "3  01.01.2019 04:00            30.0          24.856          46.1\n",
      "4  01.01.2019 05:00            30.0          24.856          44.2\n"
     ]
    }
   ],
   "source": [
    "O3 = pd.read_csv (dir+\"/O3_1h_2019.csv\", sep =';', na_values=[-999],\n",
    "                  header=0)[[\"id\",\"LdLodzCzerni\"]]\n",
    "pm1025O3 = pd.merge(pm1025,O3,on='id')\n",
    "print(pm1025O3.head())"
   ]
  },
  {
   "cell_type": "code",
   "execution_count": 11,
   "metadata": {},
   "outputs": [
    {
     "name": "stdout",
     "output_type": "stream",
     "text": [
      "                 id  PM10    PM25    O3\n",
      "0  01.01.2019 01:00  70.0  58.045  41.9\n",
      "1  01.01.2019 02:00  38.0  32.032  46.8\n",
      "2  01.01.2019 03:00  30.0  24.856  47.8\n",
      "3  01.01.2019 04:00  30.0  24.856  46.1\n",
      "4  01.01.2019 05:00  30.0  24.856  44.2\n"
     ]
    }
   ],
   "source": [
    "pm1025O3.rename(columns={\"LdLodzCzerni_x\":\"PM10\",\"LdLodzCzerni_y\":\"PM25\",\n",
    "                          \"LdLodzCzerni\":\"O3\"},inplace=True)\n",
    "print(pm1025O3.head())"
   ]
  },
  {
   "cell_type": "code",
   "execution_count": 13,
   "metadata": {},
   "outputs": [
    {
     "name": "stdout",
     "output_type": "stream",
     "text": [
      "<class 'str'>\n"
     ]
    }
   ],
   "source": [
    "print(type(pm1025O3['id'][0]))"
   ]
  },
  {
   "cell_type": "code",
   "execution_count": 15,
   "metadata": {},
   "outputs": [
    {
     "name": "stdout",
     "output_type": "stream",
     "text": [
      "                 id  PM10    PM25    O3                date\n",
      "0  01.01.2019 01:00  70.0  58.045  41.9 2019-01-01 00:00:00\n",
      "1  01.01.2019 02:00  38.0  32.032  46.8 2019-01-01 01:00:00\n",
      "2  01.01.2019 03:00  30.0  24.856  47.8 2019-01-01 02:00:00\n",
      "3  01.01.2019 04:00  30.0  24.856  46.1 2019-01-01 03:00:00\n",
      "4  01.01.2019 05:00  30.0  24.856  44.2 2019-01-01 04:00:00\n"
     ]
    }
   ],
   "source": [
    "pm1025O3['date'] = (pd.to_datetime(pm1025O3['id']))-pd.Timedelta('1 hour')\n",
    "print(pm1025O3.head())"
   ]
  },
  {
   "cell_type": "code",
   "execution_count": 16,
   "metadata": {},
   "outputs": [
    {
     "name": "stdout",
     "output_type": "stream",
     "text": [
      "<bound method NDFrame.head of                              date   ws   wd   tt   td  rh           sp  \\\n",
      "0      2019-01-01 00:00:00 +00:00  3.0  220  0.0 -1.1  92  1004.700010   \n",
      "1      2019-01-01 01:00:00 +00:00  3.0  220  0.5 -1.0  89  1003.700010   \n",
      "2      2019-01-01 02:00:00 +00:00  4.0  230  0.9 -0.6  89  1002.400020   \n",
      "3      2019-01-01 03:00:00 +00:00  4.0  210  1.4 -0.1  89  1000.400020   \n",
      "4      2019-01-01 04:00:00 +00:00  4.0  220  1.7  0.7  93   999.099976   \n",
      "...                           ...  ...  ...  ...  ...  ..          ...   \n",
      "8752   2019-12-31 19:00:00 +00:00  6.0  290  5.0  1.3  76  1004.000000   \n",
      "8753   2019-12-31 20:00:00 +00:00  7.0  290  4.9  1.2  76  1004.299990   \n",
      "8754   2019-12-31 21:00:00 +00:00  5.0  290  4.3  1.2  80  1005.200010   \n",
      "8755   2019-12-31 22:00:00 +00:00  5.0  290  3.0  0.7  84  1006.000000   \n",
      "8756   2019-12-31 23:00:00 +00:00  5.0  280  2.7  0.6  86  1006.500000   \n",
      "\n",
      "              rp   pt     wx  cc     cl     cm     ch  \n",
      "0     1027.69995  2.1     10   7 -99999 -99999 -99999  \n",
      "1     1026.69995  2.2     10   7      5 -99999 -99999  \n",
      "2     1025.30005  2.8     10   7 -99999 -99999 -99999  \n",
      "3     1023.20001  4.3     10   8      6 -99999 -99999  \n",
      "4     1021.90002  4.6     51   8      6 -99999 -99999  \n",
      "...          ...  ...    ...  ..    ...    ...    ...  \n",
      "8752  1026.59998  2.6 -99999   7      5 -99999 -99999  \n",
      "8753  1026.90002  1.9 -99999   7      5 -99999 -99999  \n",
      "8754  1027.90002  2.0 -99999   6      5      0      0  \n",
      "8755  1028.80005  2.0 -99999   3 -99999 -99999 -99999  \n",
      "8756  1029.30005  2.2 -99999   6      5      0      0  \n",
      "\n",
      "[8757 rows x 14 columns]>\n"
     ]
    }
   ],
   "source": [
    "dm = pd.read_csv ('/dta/synop/2019/12465.csv',parse_dates=True,\n",
    "na_values=['-99999','-99999.0000',' -99999 ',' -99999'])\n",
    "print(dm.head)"
   ]
  },
  {
   "cell_type": "code",
   "execution_count": 17,
   "metadata": {},
   "outputs": [],
   "source": [
    "dm['date'] = (pd.to_datetime(dm['date']))\n",
    "dm['date'] = dm['date'].dt.tz_convert(None)"
   ]
  },
  {
   "cell_type": "code",
   "execution_count": 18,
   "metadata": {},
   "outputs": [
    {
     "name": "stdout",
     "output_type": "stream",
     "text": [
      "                 date   ws   wd   tt   td  rh           sp          rp   pt  \\\n",
      "0 2019-01-01 00:00:00  3.0  220  0.0 -1.1  92  1004.700010  1027.69995  2.1   \n",
      "1 2019-01-01 01:00:00  3.0  220  0.5 -1.0  89  1003.700010  1026.69995  2.2   \n",
      "2 2019-01-01 02:00:00  4.0  230  0.9 -0.6  89  1002.400020  1025.30005  2.8   \n",
      "3 2019-01-01 03:00:00  4.0  210  1.4 -0.1  89  1000.400020  1023.20001  4.3   \n",
      "4 2019-01-01 04:00:00  4.0  220  1.7  0.7  93   999.099976  1021.90002  4.6   \n",
      "\n",
      "   wx  cc     cl     cm     ch                id  PM10    PM25    O3  \n",
      "0  10   7 -99999 -99999 -99999  01.01.2019 01:00  70.0  58.045  41.9  \n",
      "1  10   7      5 -99999 -99999  01.01.2019 02:00  38.0  32.032  46.8  \n",
      "2  10   7 -99999 -99999 -99999  01.01.2019 03:00  30.0  24.856  47.8  \n",
      "3  10   8      6 -99999 -99999  01.01.2019 04:00  30.0  24.856  46.1  \n",
      "4  51   8      6 -99999 -99999  01.01.2019 05:00  30.0  24.856  44.2  \n"
     ]
    }
   ],
   "source": [
    "dxf = pd.merge(dm,pm1025O3, on='date')\n",
    "print (dxf.head())"
   ]
  },
  {
   "cell_type": "code",
   "execution_count": 20,
   "metadata": {},
   "outputs": [
    {
     "name": "stdout",
     "output_type": "stream",
     "text": [
      "                 date   ws   wd  PM10    PM25    O3\n",
      "0 2019-01-01 00:00:00  3.0  220  70.0  58.045  41.9\n",
      "1 2019-01-01 01:00:00  3.0  220  38.0  32.032  46.8\n",
      "2 2019-01-01 02:00:00  4.0  230  30.0  24.856  47.8\n",
      "3 2019-01-01 03:00:00  4.0  210  30.0  24.856  46.1\n",
      "4 2019-01-01 04:00:00  4.0  220  30.0  24.856  44.2\n"
     ]
    }
   ],
   "source": [
    "dx = dxf[[\"date\",\"ws\",\"wd\",\"PM10\",\"PM25\",\"O3\"]]\n",
    "print(dx.head())"
   ]
  },
  {
   "cell_type": "code",
   "execution_count": 21,
   "metadata": {},
   "outputs": [
    {
     "name": "stdout",
     "output_type": "stream",
     "text": [
      "ws        1\n",
      "PM10    115\n",
      "PM25    114\n",
      "O3      120\n",
      "dtype: int64\n"
     ]
    }
   ],
   "source": [
    "null_columns = dx.columns[dx.isna().any()]\n",
    "print(dx[null_columns].isna().sum())"
   ]
  },
  {
   "cell_type": "code",
   "execution_count": 22,
   "metadata": {},
   "outputs": [
    {
     "data": {
      "text/html": [
       "<div>\n",
       "<style scoped>\n",
       "    .dataframe tbody tr th:only-of-type {\n",
       "        vertical-align: middle;\n",
       "    }\n",
       "\n",
       "    .dataframe tbody tr th {\n",
       "        vertical-align: top;\n",
       "    }\n",
       "\n",
       "    .dataframe thead th {\n",
       "        text-align: right;\n",
       "    }\n",
       "</style>\n",
       "<table border=\"1\" class=\"dataframe\">\n",
       "  <thead>\n",
       "    <tr style=\"text-align: right;\">\n",
       "      <th></th>\n",
       "      <th>ws</th>\n",
       "      <th>wd</th>\n",
       "      <th>PM10</th>\n",
       "      <th>PM25</th>\n",
       "      <th>O3</th>\n",
       "    </tr>\n",
       "  </thead>\n",
       "  <tbody>\n",
       "    <tr>\n",
       "      <th>count</th>\n",
       "      <td>8756.000000</td>\n",
       "      <td>8757.000000</td>\n",
       "      <td>8642.000000</td>\n",
       "      <td>8643.000000</td>\n",
       "      <td>8637.000000</td>\n",
       "    </tr>\n",
       "    <tr>\n",
       "      <th>mean</th>\n",
       "      <td>3.274897</td>\n",
       "      <td>164.620418</td>\n",
       "      <td>25.560750</td>\n",
       "      <td>17.694569</td>\n",
       "      <td>57.045282</td>\n",
       "    </tr>\n",
       "    <tr>\n",
       "      <th>std</th>\n",
       "      <td>2.042085</td>\n",
       "      <td>1075.303506</td>\n",
       "      <td>15.462775</td>\n",
       "      <td>13.159234</td>\n",
       "      <td>29.654675</td>\n",
       "    </tr>\n",
       "    <tr>\n",
       "      <th>min</th>\n",
       "      <td>0.000000</td>\n",
       "      <td>-99999.000000</td>\n",
       "      <td>2.000000</td>\n",
       "      <td>0.637000</td>\n",
       "      <td>2.100000</td>\n",
       "    </tr>\n",
       "    <tr>\n",
       "      <th>25%</th>\n",
       "      <td>2.000000</td>\n",
       "      <td>90.000000</td>\n",
       "      <td>14.000000</td>\n",
       "      <td>8.000000</td>\n",
       "      <td>35.500000</td>\n",
       "    </tr>\n",
       "    <tr>\n",
       "      <th>50%</th>\n",
       "      <td>3.000000</td>\n",
       "      <td>200.000000</td>\n",
       "      <td>22.000000</td>\n",
       "      <td>14.000000</td>\n",
       "      <td>55.100000</td>\n",
       "    </tr>\n",
       "    <tr>\n",
       "      <th>75%</th>\n",
       "      <td>4.000000</td>\n",
       "      <td>260.000000</td>\n",
       "      <td>32.000000</td>\n",
       "      <td>24.000000</td>\n",
       "      <td>76.000000</td>\n",
       "    </tr>\n",
       "    <tr>\n",
       "      <th>max</th>\n",
       "      <td>15.000000</td>\n",
       "      <td>360.000000</td>\n",
       "      <td>132.000000</td>\n",
       "      <td>97.000000</td>\n",
       "      <td>163.100000</td>\n",
       "    </tr>\n",
       "  </tbody>\n",
       "</table>\n",
       "</div>"
      ],
      "text/plain": [
       "                ws            wd         PM10         PM25           O3\n",
       "count  8756.000000   8757.000000  8642.000000  8643.000000  8637.000000\n",
       "mean      3.274897    164.620418    25.560750    17.694569    57.045282\n",
       "std       2.042085   1075.303506    15.462775    13.159234    29.654675\n",
       "min       0.000000 -99999.000000     2.000000     0.637000     2.100000\n",
       "25%       2.000000     90.000000    14.000000     8.000000    35.500000\n",
       "50%       3.000000    200.000000    22.000000    14.000000    55.100000\n",
       "75%       4.000000    260.000000    32.000000    24.000000    76.000000\n",
       "max      15.000000    360.000000   132.000000    97.000000   163.100000"
      ]
     },
     "execution_count": 22,
     "metadata": {},
     "output_type": "execute_result"
    }
   ],
   "source": [
    "dx.describe()"
   ]
  },
  {
   "cell_type": "code",
   "execution_count": 23,
   "metadata": {},
   "outputs": [
    {
     "data": {
      "image/png": "[encoded data removed]",
      "text/plain": [
       "<Figure size 432x288 with 1 Axes>"
      ]
     },
     "metadata": {
      "needs_background": "light"
     },
     "output_type": "display_data"
    }
   ],
   "source": [
    "dx.hist(column='ws')\n",
    "plt.show()"
   ]
  },
  {
   "cell_type": "code",
   "execution_count": 24,
   "metadata": {},
   "outputs": [
    {
     "data": {
      "image/png": "[encoded data removed]",
      "text/plain": [
       "<Figure size 432x288 with 1 Axes>"
      ]
     },
     "metadata": {
      "needs_background": "light"
     },
     "output_type": "display_data"
    }
   ],
   "source": [
    "dx.hist(column='PM10')\n",
    "plt.show()"
   ]
  },
  {
   "cell_type": "code",
   "execution_count": 26,
   "metadata": {},
   "outputs": [
    {
     "data": {
      "image/png": "[encoded data removed]",
      "text/plain": [
       "<Figure size 432x288 with 1 Axes>"
      ]
     },
     "metadata": {
      "needs_background": "light"
     },
     "output_type": "display_data"
    }
   ],
   "source": [
    "dx.hist(column='PM25')\n",
    "plt.show()"
   ]
  },
  {
   "cell_type": "code",
   "execution_count": 27,
   "metadata": {},
   "outputs": [
    {
     "data": {
      "image/png": "[encoded data removed]",
      "text/plain": [
       "<Figure size 432x288 with 1 Axes>"
      ]
     },
     "metadata": {
      "needs_background": "light"
     },
     "output_type": "display_data"
    }
   ],
   "source": [
    "dx.hist(column='O3')\n",
    "plt.show()"
   ]
  },
  {
   "cell_type": "code",
   "execution_count": 28,
   "metadata": {},
   "outputs": [
    {
     "name": "stdout",
     "output_type": "stream",
     "text": [
      "<class 'rpy2.robjects.vectors.DataFrame'>\n"
     ]
    }
   ],
   "source": [
    "with localconverter(ro.default_converter + pandas2ri.converter):\n",
    "    rdx=ro.conversion.py2rpy(dx)\n",
    "    print(type(rdx))"
   ]
  },
  {
   "cell_type": "code",
   "execution_count": 30,
   "metadata": {},
   "outputs": [
    {
     "name": "stdout",
     "output_type": "stream",
     "text": [
      "                       date   ws   wd  PM10    PM25    O3\n",
      "0 2019-01-01 00:00:00+01:00  3.0  220  70.0  58.045  41.9\n",
      "1 2019-01-01 01:00:00+01:00  3.0  220  38.0  32.032  46.8\n",
      "2 2019-01-01 02:00:00+01:00  4.0  230  30.0  24.856  47.8\n",
      "3 2019-01-01 03:00:00+01:00  4.0  210  30.0  24.856  46.1\n",
      "4 2019-01-01 04:00:00+01:00  4.0  220  30.0  24.856  44.2\n",
      "5 2019-01-01 05:00:00+01:00  4.0  220  28.0  23.959  42.8\n"
     ]
    }
   ],
   "source": [
    "print(rdx.head())"
   ]
  },
  {
   "cell_type": "code",
   "execution_count": 31,
   "metadata": {},
   "outputs": [
    {
     "name": "stderr",
     "output_type": "stream",
     "text": [
      "/usr/lib/python3.7/site-packages/rpy2/robjects/pandas2ri.py:197: UserWarning: R object inheriting from \"POSIXct\" but without attribute \"tzone\".\n",
      "  warnings.warn('R object inheriting from \"POSIXct\" but without '\n"
     ]
    },
    {
     "name": "stdout",
     "output_type": "stream",
     "text": [
      "[  2.          14.          22.          25.56074983  32.\n",
      " 132.         115.        ]\n"
     ]
    }
   ],
   "source": [
    "r_base = importr('base')\n",
    "edsummary = r_base.summary(rdx.rx2(\"PM10\"))\n",
    "print(edsummary)"
   ]
  },
  {
   "cell_type": "code",
   "execution_count": 32,
   "metadata": {},
   "outputs": [
    {
     "name": "stdout",
     "output_type": "stream",
     "text": [
      "[  0.637        8.          14.          17.69456948  24.\n",
      "  97.         114.        ]\n"
     ]
    }
   ],
   "source": [
    "r_base = importr('base')\n",
    "edsummary = r_base.summary(rdx.rx2(\"PM25\"))\n",
    "print(edsummary)"
   ]
  },
  {
   "cell_type": "code",
   "execution_count": 33,
   "metadata": {},
   "outputs": [
    {
     "name": "stdout",
     "output_type": "stream",
     "text": [
      "[  2.1         35.5         55.1         57.04528193  76.\n",
      " 163.1        120.        ]\n"
     ]
    }
   ],
   "source": [
    "r_base = importr('base')\n",
    "edsummary = r_base.summary(rdx.rx2(\"O3\"))\n",
    "print(edsummary)"
   ]
  },
  {
   "cell_type": "code",
   "execution_count": 34,
   "metadata": {},
   "outputs": [
    {
     "name": "stdout",
     "output_type": "stream",
     "text": [
      "    date1     date2        ws        wd      PM10      PM25        O3 \n",
      "\"POSIXct\"  \"POSIXt\" \"numeric\" \"integer\" \"numeric\" \"numeric\" \"numeric\" \n"
     ]
    },
    {
     "data": {
      "text/html": [
       "\n",
       "        <span>ListVector with 11 elements.</span>\n",
       "        <table>\n",
       "        <tbody>\n",
       "        \n",
       "          <tr>\n",
       "            <th>\n",
       "            label\n",
       "            </th>\n",
       "            <td>\n",
       "            []\n",
       "            </td>\n",
       "          </tr>\n",
       "        \n",
       "          <tr>\n",
       "            <th>\n",
       "            x\n",
       "            </th>\n",
       "            <td>\n",
       "            [0.5]\n",
       "            </td>\n",
       "          </tr>\n",
       "        \n",
       "          <tr>\n",
       "            <th>\n",
       "            y\n",
       "            </th>\n",
       "            <td>\n",
       "            [1.]\n",
       "            </td>\n",
       "          </tr>\n",
       "        \n",
       "          <tr>\n",
       "            <th>\n",
       "            ...\n",
       "            </th>\n",
       "            <td>\n",
       "            ...\n",
       "            </td>\n",
       "          </tr>\n",
       "        \n",
       "          <tr>\n",
       "            <th>\n",
       "            name\n",
       "            </th>\n",
       "            <td>\n",
       "            ['GRID.text.23']\n",
       "            </td>\n",
       "          </tr>\n",
       "        \n",
       "          <tr>\n",
       "            <th>\n",
       "            gp\n",
       "            </th>\n",
       "            <td>\n",
       "            \n",
       "        <span>ListVector with 1 elements.</span>\n",
       "        <table>\n",
       "        <tbody>\n",
       "        \n",
       "          <tr>\n",
       "            <th>\n",
       "            fontsize\n",
       "            </th>\n",
       "            <td>\n",
       "            <rpy2.rinterface.FloatSexpVector object at 0x7f34e63dfb40> [RTYPES.REALSXP]\n",
       "            </td>\n",
       "          </tr>\n",
       "        \n",
       "        </tbody>\n",
       "        </table>\n",
       "        \n",
       "            </td>\n",
       "          </tr>\n",
       "        \n",
       "          <tr>\n",
       "            <th>\n",
       "            vp\n",
       "            </th>\n",
       "            <td>\n",
       "            <rpy2.rinterface.NULLType object at 0x7f3510115640> [RTYPES.NILSXP]\n",
       "            </td>\n",
       "          </tr>\n",
       "        \n",
       "        </tbody>\n",
       "        </table>\n",
       "        "
      ],
      "text/plain": [
       "R object with classes: ('text', 'grob', 'gDesc') mapped to:\n",
       "[StrSexpVe..., FloatSexp..., FloatSexp..., StrSexpVe..., ..., BoolSexpV..., StrSexpVe..., ListSexpV..., NULLType]\n",
       "  label: <class 'numpy.ndarray'>\n",
       "  array([], dtype=float64)\n",
       "  x: <class 'numpy.ndarray'>\n",
       "  array([0.5])\n",
       "  y: <class 'numpy.ndarray'>\n",
       "  array([1.])\n",
       "  just: <class 'numpy.ndarray'>\n",
       "  array(['centre'], dtype='<U6')\n",
       "...\n",
       "  vjust: <class 'numpy.ndarray'>\n",
       "  array([0], dtype=int32)\n",
       "  rot: <class 'numpy.ndarray'>\n",
       "  array(['GRID.text.23'], dtype='<U12')\n",
       "R object with classes: ('text', 'grob', 'gDesc') mapped to:\n",
       "[StrSexpVe..., FloatSexp..., FloatSexp..., StrSexpVe..., ..., BoolSexpV..., StrSexpVe..., ListSexpV..., NULLType]\n",
       "  name: <class 'rpy2.rinterface.NULLType'>\n",
       "  <rpy2.rinterface.NULLType object at 0x7f3510115640> [RTYPES.NILSXP]"
      ]
     },
     "execution_count": 34,
     "metadata": {},
     "output_type": "execute_result"
    }
   ],
   "source": [
    "openair.summaryPlot(mydata=rdx)"
   ]
  },
  {
   "cell_type": "code",
   "execution_count": null,
   "metadata": {},
   "outputs": [],
   "source": [
    "openair.calendarPlot(mydata=rdx,pollutant=\"PM10\")"
   ]
  },
  {
   "cell_type": "code",
   "execution_count": null,
   "metadata": {},
   "outputs": [],
   "source": [
    "openair.calendarPlot(mydata=rdx,pollutant=\"PM25\")"
   ]
  },
  {
   "cell_type": "code",
   "execution_count": null,
   "metadata": {},
   "outputs": [],
   "source": [
    "openair.calendarPlot(mydata=rdx,pollutant=\"O3\")"
   ]
  },
  {
   "cell_type": "code",
   "execution_count": null,
   "metadata": {},
   "outputs": [],
   "source": [
    "openair.timePlot(mydata=rdx,pollutant=\"PM10\",smooth=True)"
   ]
  },
  {
   "cell_type": "code",
   "execution_count": null,
   "metadata": {},
   "outputs": [],
   "source": [
    "openair.timePlot(mydata=rdx,pollutant=\"PM25\",smooth=True)"
   ]
  },
  {
   "cell_type": "code",
   "execution_count": null,
   "metadata": {},
   "outputs": [],
   "source": [
    "openair.timePlot(mydata=rdx,pollutant=\"O3\",smooth=True)"
   ]
  },
  {
   "cell_type": "code",
   "execution_count": null,
   "metadata": {},
   "outputs": [],
   "source": []
  },
  {
   "cell_type": "code",
   "execution_count": null,
   "metadata": {},
   "outputs": [],
   "source": [
    "openair.TheilSen(mydata=rdx,pollutant=\"PM10\",ylab=\"PM10 [ug/m3]\")"
   ]
  },
  {
   "cell_type": "code",
   "execution_count": null,
   "metadata": {},
   "outputs": [],
   "source": [
    "openair.TheilSen(mydata=rdx,pollutant=\"PM25\",ylab=\"PM25 [ug/m3]\")"
   ]
  },
  {
   "cell_type": "code",
   "execution_count": null,
   "metadata": {},
   "outputs": [],
   "source": [
    "openair.TheilSen(mydata=rdx,pollutant=\"O3\",ylab=\"O3 [ug/m3]\")"
   ]
  },
  {
   "cell_type": "code",
   "execution_count": null,
   "metadata": {},
   "outputs": [],
   "source": []
  },
  {
   "cell_type": "code",
   "execution_count": null,
   "metadata": {},
   "outputs": [],
   "source": [
    "***** comparing 2 pollutants ********"
   ]
  },
  {
   "cell_type": "code",
   "execution_count": null,
   "metadata": {},
   "outputs": [],
   "source": [
    "pollutants = ro.StrVector(['PM10', 'PM25'])\n",
    "openair.timePlot(mydata=rdx,pollutant=pollutants,smooth=True)"
   ]
  },
  {
   "cell_type": "code",
   "execution_count": null,
   "metadata": {},
   "outputs": [],
   "source": [
    "pollutants = ro.StrVector(['PM10', 'O3'])\n",
    "openair.timePlot(mydata=rdx,pollutant=pollutants,smooth=True)"
   ]
  },
  {
   "cell_type": "code",
   "execution_count": null,
   "metadata": {},
   "outputs": [],
   "source": [
    "pollutants = ro.StrVector(['PM25', 'O3'])\n",
    "openair.timePlot(mydata=rdx,pollutant=pollutants,smooth=True)"
   ]
  },
  {
   "cell_type": "code",
   "execution_count": null,
   "metadata": {},
   "outputs": [],
   "source": []
  },
  {
   "cell_type": "code",
   "execution_count": null,
   "metadata": {},
   "outputs": [],
   "source": []
  },
  {
   "cell_type": "code",
   "execution_count": null,
   "metadata": {},
   "outputs": [],
   "source": []
  },
  {
   "cell_type": "code",
   "execution_count": null,
   "metadata": {},
   "outputs": [],
   "source": [
    "***************** Using Wind Rose ***********"
   ]
  },
  {
   "cell_type": "code",
   "execution_count": null,
   "metadata": {},
   "outputs": [],
   "source": [
    "openair.windRose(mydata=rdx,angle=10)"
   ]
  },
  {
   "cell_type": "code",
   "execution_count": null,
   "metadata": {},
   "outputs": [],
   "source": [
    "openair.pollutionRose(mydata=rdx,angle=10,pollutant=\"PM10\")"
   ]
  },
  {
   "cell_type": "code",
   "execution_count": null,
   "metadata": {},
   "outputs": [],
   "source": [
    "openair.pollutionRose(mydata=rdx,angle=10,pollutant=\"PM25\")"
   ]
  },
  {
   "cell_type": "code",
   "execution_count": null,
   "metadata": {},
   "outputs": [],
   "source": [
    "openair.pollutionRose(mydata=rdx,angle=10,pollutant=\"O3\")"
   ]
  },
  {
   "cell_type": "code",
   "execution_count": null,
   "metadata": {},
   "outputs": [],
   "source": [
    "*******************Conditioned pollution wind roses (Stratification of data into several subset based on concentrations of other pollutants)"
   ]
  },
  {
   "cell_type": "code",
   "execution_count": null,
   "metadata": {},
   "outputs": [],
   "source": [
    "openair.pollutionRose(mydata=rdx,angle=10,pollutant=\"PM10\",type=\"PM25\", layout=ro.IntVector([4, 1]))"
   ]
  },
  {
   "cell_type": "code",
   "execution_count": null,
   "metadata": {},
   "outputs": [],
   "source": [
    "openair.pollutionRose(mydata=rdx,angle=10,pollutant=\"PM25\",type=\"PM10\",\n",
    "layout=ro.IntVector([4, 1]))"
   ]
  },
  {
   "cell_type": "code",
   "execution_count": null,
   "metadata": {},
   "outputs": [],
   "source": [
    "openair.pollutionRose(mydata=rdx,angle=10,pollutant=\"O3\",type=\"PM10\",\n",
    "layout=ro.IntVector([4, 1]))"
   ]
  },
  {
   "cell_type": "code",
   "execution_count": null,
   "metadata": {},
   "outputs": [],
   "source": [
    "******************Polar frequency**************"
   ]
  },
  {
   "cell_type": "code",
   "execution_count": null,
   "metadata": {},
   "outputs": [],
   "source": [
    "subset = rdx.rx(rdx.rx2('ws').ro > 10, True)\n",
    "openair.polarFreq(subset,pollutant= \"PM10\",ws_int = 10, statistic = \"weighted.mean\")"
   ]
  },
  {
   "cell_type": "code",
   "execution_count": null,
   "metadata": {},
   "outputs": [],
   "source": [
    "openair.polarFreq(mydata=rdx,pollutant=\"PM10\",statistic=\"max\")"
   ]
  },
  {
   "cell_type": "code",
   "execution_count": null,
   "metadata": {},
   "outputs": [],
   "source": [
    "openair.polarFreq(mydata=rdx,pollutant=\"PM25\",statistic=\"max\")"
   ]
  },
  {
   "cell_type": "code",
   "execution_count": null,
   "metadata": {},
   "outputs": [],
   "source": [
    "openair.polarFreq(mydata=rdx,pollutant=\"O3\",statistic=\"max\")"
   ]
  },
  {
   "cell_type": "code",
   "execution_count": null,
   "metadata": {},
   "outputs": [],
   "source": []
  },
  {
   "cell_type": "code",
   "execution_count": null,
   "metadata": {},
   "outputs": [],
   "source": [
    "********************************************\n",
    "Subsetting:to filter out some data which hinder our analysis,\n",
    "eg. low windspeeds"
   ]
  },
  {
   "cell_type": "code",
   "execution_count": null,
   "metadata": {},
   "outputs": [],
   "source": [
    "rdx.rx2('ws')"
   ]
  },
  {
   "cell_type": "code",
   "execution_count": null,
   "metadata": {},
   "outputs": [],
   "source": [
    "rdx.rx2('ws')>2"
   ]
  },
  {
   "cell_type": "code",
   "execution_count": null,
   "metadata": {},
   "outputs": [],
   "source": [
    "subset = rdx.rx(rdx.rx2('ws') > 2, True)"
   ]
  },
  {
   "cell_type": "code",
   "execution_count": null,
   "metadata": {},
   "outputs": [],
   "source": [
    "openair.polarFreq(subset,pollutant=\"PM10\",statistic=\"weighted.mean\")"
   ]
  },
  {
   "cell_type": "code",
   "execution_count": null,
   "metadata": {},
   "outputs": [],
   "source": [
    "openair.polarFreq(subset,pollutant=\"PM25\",statistic=\"weighted.mean\")"
   ]
  },
  {
   "cell_type": "code",
   "execution_count": null,
   "metadata": {},
   "outputs": [],
   "source": [
    "openair.polarFreq(subset,pollutant=\"O3\",statistic=\"weighted.mean\")"
   ]
  },
  {
   "cell_type": "code",
   "execution_count": null,
   "metadata": {},
   "outputs": [],
   "source": [
    "*************************Polar plot**************************"
   ]
  },
  {
   "cell_type": "code",
   "execution_count": null,
   "metadata": {},
   "outputs": [],
   "source": [
    "openair.polarPlot(mydata=rdx,angle=10,pollutant=\"PM10\",statistic=\"mean\")"
   ]
  },
  {
   "cell_type": "code",
   "execution_count": null,
   "metadata": {},
   "outputs": [],
   "source": [
    "openair.polarPlot(mydata=rdx,angle=10,pollutant=\"PM25\",statistic=\"mean\")"
   ]
  },
  {
   "cell_type": "code",
   "execution_count": null,
   "metadata": {},
   "outputs": [],
   "source": [
    "openair.polarPlot(mydata=rdx,angle=10,pollutant=\"O3\",statistic=\"mean\")"
   ]
  },
  {
   "cell_type": "code",
   "execution_count": null,
   "metadata": {},
   "outputs": [],
   "source": []
  },
  {
   "cell_type": "code",
   "execution_count": null,
   "metadata": {},
   "outputs": [],
   "source": [
    "******************************************************************************\n",
    "In order to eliminate bins that contain small numbers of elements"
   ]
  },
  {
   "cell_type": "code",
   "execution_count": null,
   "metadata": {},
   "outputs": [],
   "source": [
    "openair.polarPlot(mydata=rdx,angle=10,pollutant=\"PM10\",min_bin=2,statistic=\"mean\")"
   ]
  },
  {
   "cell_type": "code",
   "execution_count": null,
   "metadata": {},
   "outputs": [],
   "source": [
    "openair.polarPlot(mydata=rdx,angle=10,pollutant=\"PM25\",min_bin=2,statistic=\"mean\")"
   ]
  },
  {
   "cell_type": "code",
   "execution_count": null,
   "metadata": {},
   "outputs": [],
   "source": [
    "openair.polarPlot(mydata=rdx,angle=10,pollutant=\"O3\",min_bin=2,statistic=\"mean\")"
   ]
  },
  {
   "cell_type": "code",
   "execution_count": null,
   "metadata": {},
   "outputs": [],
   "source": []
  },
  {
   "cell_type": "code",
   "execution_count": null,
   "metadata": {},
   "outputs": [],
   "source": [
    "*******************Seasonal variations *******************"
   ]
  },
  {
   "cell_type": "code",
   "execution_count": null,
   "metadata": {},
   "outputs": [],
   "source": [
    "openair.polarPlot(mydata=rdx,angle=10,pollutant=\"PM10\",type=\"season\",\n",
    "layout=ro.IntVector([4, 1]))"
   ]
  },
  {
   "cell_type": "code",
   "execution_count": null,
   "metadata": {},
   "outputs": [],
   "source": [
    "openair.polarPlot(mydata=rdx,angle=10,pollutant=\"PM25\",type=\"season\",\n",
    "layout=ro.IntVector([4, 1]))"
   ]
  },
  {
   "cell_type": "code",
   "execution_count": null,
   "metadata": {},
   "outputs": [],
   "source": [
    "openair.polarPlot(mydata=rdx,angle=10,pollutant=\"O3\",type=\"season\",\n",
    "layout=ro.IntVector([4, 1]))"
   ]
  },
  {
   "cell_type": "code",
   "execution_count": null,
   "metadata": {},
   "outputs": [],
   "source": []
  },
  {
   "cell_type": "code",
   "execution_count": null,
   "metadata": {},
   "outputs": [],
   "source": [
    "********** hourly variations *****************"
   ]
  },
  {
   "cell_type": "code",
   "execution_count": null,
   "metadata": {},
   "outputs": [],
   "source": [
    "openair.polarPlot(mydata=rdx,angle=10,pollutant=\"PM10\",type=\"hour\",\n",
    "layout=ro.IntVector([6, 4]), k=50)"
   ]
  },
  {
   "cell_type": "code",
   "execution_count": null,
   "metadata": {},
   "outputs": [],
   "source": [
    "openair.polarPlot(mydata=rdx,angle=10,pollutant=\"PM25\",type=\"hour\",\n",
    "layout=ro.IntVector([6, 4]), k=50)"
   ]
  },
  {
   "cell_type": "code",
   "execution_count": null,
   "metadata": {},
   "outputs": [],
   "source": [
    "openair.polarPlot(mydata=rdx,angle=10,pollutant=\"O3\",type=\"hour\",\n",
    "layout=ro.IntVector([6, 4]), k=50)"
   ]
  },
  {
   "cell_type": "code",
   "execution_count": null,
   "metadata": {},
   "outputs": [],
   "source": []
  },
  {
   "cell_type": "code",
   "execution_count": null,
   "metadata": {},
   "outputs": [],
   "source": [
    "************************time variation plots******************************"
   ]
  },
  {
   "cell_type": "code",
   "execution_count": null,
   "metadata": {},
   "outputs": [],
   "source": [
    "openair.timeVariation (mydata=rdx,pollutant=\"PM10\")"
   ]
  },
  {
   "cell_type": "code",
   "execution_count": null,
   "metadata": {},
   "outputs": [],
   "source": [
    "openair.timeVariation (mydata=rdx,pollutant=\"PM25\")"
   ]
  },
  {
   "cell_type": "code",
   "execution_count": null,
   "metadata": {},
   "outputs": [],
   "source": [
    "openair.timeVariation (mydata=rdx,pollutant=\"O3\")"
   ]
  },
  {
   "cell_type": "code",
   "execution_count": null,
   "metadata": {},
   "outputs": [],
   "source": []
  },
  {
   "cell_type": "code",
   "execution_count": null,
   "metadata": {},
   "outputs": [],
   "source": []
  }
 ],
 "metadata": {
  "kernelspec": {
   "display_name": "Python 3",
   "language": "python",
   "name": "python3"
  },
  "language_info": {
   "codemirror_mode": {
    "name": "ipython",
    "version": 3
   },
   "file_extension": ".py",
   "mimetype": "text/x-python",
   "name": "python",
   "nbconvert_exporter": "python",
   "pygments_lexer": "ipython3",
   "version": "3.7.7"
  }
 },
 "nbformat": 4,
 "nbformat_minor": 2
}
